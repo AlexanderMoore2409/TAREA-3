{
  "nbformat": 4,
  "nbformat_minor": 0,
  "metadata": {
    "colab": {
      "name": "Tarea 3.ipynb",
      "provenance": [],
      "collapsed_sections": [],
      "authorship_tag": "ABX9TyPUPpciO1HbufeGVVk6wrlP",
      "include_colab_link": true
    },
    "kernelspec": {
      "name": "python3",
      "display_name": "Python 3"
    },
    "language_info": {
      "name": "python"
    }
  },
  "cells": [
    {
      "cell_type": "markdown",
      "metadata": {
        "id": "view-in-github",
        "colab_type": "text"
      },
      "source": [
        "<a href=\"https://colab.research.google.com/github/AlexanderMoore2409/TAREA-3/blob/main/Tarea_3.ipynb\" target=\"_parent\"><img src=\"https://colab.research.google.com/assets/colab-badge.svg\" alt=\"Open In Colab\"/></a>"
      ]
    },
    {
      "cell_type": "code",
      "metadata": {
        "id": "a69xe0CH1573"
      },
      "source": [
        ""
      ],
      "execution_count": null,
      "outputs": []
    },
    {
      "cell_type": "markdown",
      "metadata": {
        "id": "sQp3ZER41_Gc"
      },
      "source": [
        "#TAREA 3\n",
        "Realizar un programa que permita levantar la comanda de un restaurante, de la forma:\n",
        "\n",
        "menu_select(mesa=3,comensal=2,entrada=\"Ensalada verde\", medio=\"crema de zanahoria\",fuerte=\"filete\" adicionales=\"Filete término medio, la ensalada sin ningun tipo de semilla, Adereso Ranch\")"
      ]
    },
    {
      "cell_type": "code",
      "metadata": {
        "colab": {
          "base_uri": "https://localhost:8080/"
        },
        "id": "1I0THMdX2HzL",
        "outputId": "65df1499-a97a-4623-b2d7-b1f848639553"
      },
      "source": [
        "menu_select = [3, 2 ,'Ensalada verde', 'crema de zanahoria','filete', 'Filete término medio , la ensalada sin ningun tipo de semilla, Adereso Ranch']\n",
        "print(\"Detalle:\")\n",
        "print(f\"Mesa: {menu_select[0]}\")\n",
        "print(f\"Comensal: {menu_select[1]}\")\n",
        "print(f\"Entrada: {menu_select[2]}\")\n",
        "print(f\"Medio: {menu_select[3]}\")\n",
        "print(f\"Fuerte: {menu_select[4]}\")\n",
        "print(f\"Adicionales: {menu_select[5]}\")\n"
      ],
      "execution_count": 33,
      "outputs": [
        {
          "output_type": "stream",
          "name": "stdout",
          "text": [
            "Detalle:\n",
            "Mesa: 3\n",
            "Comensal: 2\n",
            "Entrada: Ensalada verde\n",
            "Medio: crema de zanahoria\n",
            "Fuerte: filete\n",
            "Adicionales: Filete término medio , la ensalada sin ningun tipo de semilla, Adereso Ranch\n"
          ]
        }
      ]
    },
    {
      "cell_type": "code",
      "metadata": {
        "id": "k7rs2Ud68VP7"
      },
      "source": [
        ""
      ],
      "execution_count": null,
      "outputs": []
    }
  ]
}